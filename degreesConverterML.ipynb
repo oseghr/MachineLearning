{
  "nbformat": 4,
  "nbformat_minor": 0,
  "metadata": {
    "colab": {
      "provenance": [],
      "authorship_tag": "ABX9TyOondVa9V1KKtTOz87imhiH",
      "include_colab_link": true
    },
    "kernelspec": {
      "name": "python3",
      "display_name": "Python 3"
    },
    "language_info": {
      "name": "python"
    }
  },
  "cells": [
    {
      "cell_type": "markdown",
      "metadata": {
        "id": "view-in-github",
        "colab_type": "text"
      },
      "source": [
        "<a href=\"https://colab.research.google.com/github/oseghr/MachineLearning/blob/main/degreesConverterML.ipynb\" target=\"_parent\"><img src=\"https://colab.research.google.com/assets/colab-badge.svg\" alt=\"Open In Colab\"/></a>"
      ]
    },
    {
      "cell_type": "code",
      "execution_count": 49,
      "metadata": {
        "id": "94EmORn-x3bP"
      },
      "outputs": [],
      "source": [
        "#import dependencies\n",
        "import numpy as np\n",
        "import pandas as pd\n",
        "import matplotlib.pyplot as plt\n",
        "import tensorflow as tf"
      ]
    },
    {
      "cell_type": "code",
      "source": [
        "#create the feature and label\n",
        "celsius = np.array([-40, -10,  0,  8, 15, 22,  38],  dtype=float)\n",
        "fahrenheit = np.array([-40,  14, 32, 46, 59, 72, 100],  dtype=float)"
      ],
      "metadata": {
        "id": "RsZ5zq1NyLLL"
      },
      "execution_count": 50,
      "outputs": []
    },
    {
      "cell_type": "code",
      "source": [
        "#iteraate over the input/output data\n",
        "for i,c in enumerate(celsius):\n",
        "  print(f\"{c} degrees Celsius = {fahrenheit[i]} degrees Fahrenheit\")"
      ],
      "metadata": {
        "colab": {
          "base_uri": "https://localhost:8080/"
        },
        "id": "tfWfOlIMyzzJ",
        "outputId": "ecf2f182-61ed-48a5-93da-6f6ecbc9d15f"
      },
      "execution_count": 51,
      "outputs": [
        {
          "output_type": "stream",
          "name": "stdout",
          "text": [
            "-40.0 degrees Celsius = -40.0 degrees Fahrenheit\n",
            "-10.0 degrees Celsius = 14.0 degrees Fahrenheit\n",
            "0.0 degrees Celsius = 32.0 degrees Fahrenheit\n",
            "8.0 degrees Celsius = 46.0 degrees Fahrenheit\n",
            "15.0 degrees Celsius = 59.0 degrees Fahrenheit\n",
            "22.0 degrees Celsius = 72.0 degrees Fahrenheit\n",
            "38.0 degrees Celsius = 100.0 degrees Fahrenheit\n"
          ]
        }
      ]
    },
    {
      "cell_type": "code",
      "source": [
        "#create a simple model - Dense network - this network will be a single layer, with a single neuron.\n",
        "#build a layer -> layer0 = tf.keras.layers.Dense(units=1, input_shape=[1])\n",
        "layer0 = tf.keras.layers.Dense(units=1, input_shape=[1])\n",
        "\n",
        "#assemble the layer into a model -> model = tf.keras.Sequential([layer0])\n",
        "model = tf.keras.Sequential([layer0])"
      ],
      "metadata": {
        "id": "iRHbFlVMzNPK"
      },
      "execution_count": 58,
      "outputs": []
    },
    {
      "cell_type": "code",
      "source": [
        "#compile the model with loss and optimizer function\n",
        "model.compile(loss='mean_squared_error', optimizer=tf.keras.optimizers.Adam(0.1))"
      ],
      "metadata": {
        "id": "tmpDm3_E16cN"
      },
      "execution_count": 59,
      "outputs": []
    },
    {
      "cell_type": "code",
      "source": [
        "#train the model\n",
        "history = model.fit(celsius, fahrenheit, epochs=800, verbose=False)\n",
        "print(\"======Finished training the model=====\")"
      ],
      "metadata": {
        "colab": {
          "base_uri": "https://localhost:8080/"
        },
        "id": "obHUsRhn4y6t",
        "outputId": "e55e2d38-684a-44dc-bca8-5d9e9d2e488a"
      },
      "execution_count": 60,
      "outputs": [
        {
          "output_type": "stream",
          "name": "stdout",
          "text": [
            "======Finished training the model=====\n"
          ]
        }
      ]
    },
    {
      "cell_type": "code",
      "source": [
        "#display the training stats\n",
        "plt.xlabel(\"Epoch Number\")\n",
        "plt.ylabel(\"Loss Magnitude\")\n",
        "plt.plot(history.history['loss'])\n",
        "plt.show()"
      ],
      "metadata": {
        "colab": {
          "base_uri": "https://localhost:8080/",
          "height": 449
        },
        "id": "wLkcaZve7lZE",
        "outputId": "5ee3d8d2-a0ad-4638-d7f4-95a28a6987c3"
      },
      "execution_count": 61,
      "outputs": [
        {
          "output_type": "display_data",
          "data": {
            "text/plain": [
              "<Figure size 640x480 with 1 Axes>"
            ],
            "image/png": "[encoded data removed]"
          },
          "metadata": {}
        }
      ]
    },
    {
      "cell_type": "code",
      "source": [
        "#use the model to predict values for a given celsius\n",
        "print(model.predict([100.0]))"
      ],
      "metadata": {
        "colab": {
          "base_uri": "https://localhost:8080/"
        },
        "id": "Cra8OvaT80pd",
        "outputId": "e29a22e3-dadb-4b77-95b9-9c38f89c51d8"
      },
      "execution_count": 62,
      "outputs": [
        {
          "output_type": "stream",
          "name": "stderr",
          "text": [
            "WARNING:tensorflow:6 out of the last 9 calls to <function Model.make_predict_function.<locals>.predict_function at 0x7ecf47754550> triggered tf.function retracing. Tracing is expensive and the excessive number of tracings could be due to (1) creating @tf.function repeatedly in a loop, (2) passing tensors with different shapes, (3) passing Python objects instead of tensors. For (1), please define your @tf.function outside of the loop. For (2), @tf.function has reduce_retracing=True option that can avoid unnecessary retracing. For (3), please refer to https://www.tensorflow.org/guide/function#controlling_retracing and https://www.tensorflow.org/api_docs/python/tf/function for  more details.\n"
          ]
        },
        {
          "output_type": "stream",
          "name": "stdout",
          "text": [
            "1/1 [==============================] - 0s 66ms/step\n",
            "[[211.7085]]\n"
          ]
        }
      ]
    },
    {
      "cell_type": "code",
      "source": [
        "#look at the layer weights\n",
        "print(f\"These are the layer variables: {layer0.get_weights()}\")"
      ],
      "metadata": {
        "colab": {
          "base_uri": "https://localhost:8080/"
        },
        "id": "LUzYxMxG9NXC",
        "outputId": "8e583182-2675-4c16-ac25-cc178691297c"
      },
      "execution_count": 63,
      "outputs": [
        {
          "output_type": "stream",
          "name": "stdout",
          "text": [
            "These are the layer variables: [array([[1.8002882]], dtype=float32), array([31.679667], dtype=float32)]\n"
          ]
        }
      ]
    },
    {
      "cell_type": "code",
      "source": [],
      "metadata": {
        "id": "crTqcRVqHNS5"
      },
      "execution_count": null,
      "outputs": []
    }
  ]
}